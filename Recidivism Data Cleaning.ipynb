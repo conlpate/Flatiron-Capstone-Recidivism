{
 "cells": [
  {
   "cell_type": "markdown",
   "metadata": {},
   "source": [
    "# For a Better Criminal Justice System: Analyzing Recidivism and Prison Populations in the US\n",
    "\n",
    "#### Data sourced from:\n",
    "- [Sentencing Project, State Imprisonment Rate](https://www.sentencingproject.org/the-facts/#rankings)\n",
    "    - \"Research on incarceration has traditionally centered on state-level data: specifically state prison populations or the statewide combined prison and jail population. Using the state as the unit of analysis is sufficient for understanding the broad contours of incarceration in the United States, but it does not provide the level of detail necessary to unpack its causes and consequences.\"\n",
    "    \n",
    "-[Bureau of Justice Statistics, National Prisoners Statistics Program](https://www.kaggle.com/christophercorrea/prisoners-and-crime-in-united-states?select=crime_and_incarceration_by_state.csv)\n",
    "\n",
    "    - \"The Bureau of Justice Statistics administers the National Prisoners Statistics Program (NPS), an annual data collection effort that began in response to a 1926 congressional mandate. The population statistics reflect each state's prisoner population as of December 31 for the recorded year. Prisoners listed under federal jurisdiction are incarcerated by the U.S. Bureau of Prisons.\"\n",
    "    \n",
    "- [Iowa Department of Corrections](https://data.iowa.gov/Correctional-System/3-Year-Recidivism-for-Offenders-Released-from-Pris/mw8r-vqy4), [Kaggle, slonnadube](https://www.kaggle.com/slonnadube/recidivism-for-offenders-released-from-prison)\n",
    "    - \"This dataset reports whether an offender is re-admitted to prison or not within three years from being released from prison in Iowa. The recidivism reporting year is the fiscal year (year ending June 30) marking the end of the three year tracking period.\n",
    "       The Department of Corrections uses recidivism as an indicator on whether strategies are reducing offenders relapse into criminal behavior. A three year time frame is used as studies have shown if an offender relapses into criminal behavior it is most likely to happen within three years of being released.\"\n",
    "       \n",
    "- [Prison Policy Initiative](https://www.prisonpolicy.org/profiles/)"
   ]
  },
  {
   "cell_type": "markdown",
   "metadata": {},
   "source": [
    "## Directory\n",
    "### 1. Importing Necessary Libraries\n",
    "### 2. Importing Datasets, Merging, and Inspecting Data\n",
    "### 3. Cleaning and Converting Data"
   ]
  },
  {
   "cell_type": "markdown",
   "metadata": {},
   "source": [
    "## 1. Importing Necessary Libraries"
   ]
  },
  {
   "cell_type": "code",
   "execution_count": 1,
   "metadata": {},
   "outputs": [],
   "source": [
    "import numpy as np\n",
    "\n",
    "import matplotlib.pyplot as plt\n",
    "%matplotlib inline\n",
    "from matplotlib.pylab import rcParams\n",
    "from matplotlib.patches import Patch\n",
    "from matplotlib import pyplot\n",
    "plt.style.use('ggplot')\n",
    "from imblearn.over_sampling import SMOTE\n",
    "\n",
    "import pandas as pd"
   ]
  },
  {
   "cell_type": "markdown",
   "metadata": {},
   "source": [
    "## 2. Importing Datasets, Merging, and Inspecting Data"
   ]
  },
  {
   "cell_type": "markdown",
   "metadata": {},
   "source": [
    "### JAIL POPULATION\n",
    "#### Crime and Incarceration by State"
   ]
  },
  {
   "cell_type": "code",
   "execution_count": 2,
   "metadata": {},
   "outputs": [
    {
     "data": {
      "text/html": [
       "<div>\n",
       "<style scoped>\n",
       "    .dataframe tbody tr th:only-of-type {\n",
       "        vertical-align: middle;\n",
       "    }\n",
       "\n",
       "    .dataframe tbody tr th {\n",
       "        vertical-align: top;\n",
       "    }\n",
       "\n",
       "    .dataframe thead th {\n",
       "        text-align: right;\n",
       "    }\n",
       "</style>\n",
       "<table border=\"1\" class=\"dataframe\">\n",
       "  <thead>\n",
       "    <tr style=\"text-align: right;\">\n",
       "      <th></th>\n",
       "      <th>jurisdiction</th>\n",
       "      <th>includes_jails</th>\n",
       "      <th>2001</th>\n",
       "      <th>2002</th>\n",
       "      <th>2003</th>\n",
       "      <th>2004</th>\n",
       "      <th>2005</th>\n",
       "      <th>2006</th>\n",
       "      <th>2007</th>\n",
       "      <th>2008</th>\n",
       "      <th>2009</th>\n",
       "      <th>2010</th>\n",
       "      <th>2011</th>\n",
       "      <th>2012</th>\n",
       "      <th>2013</th>\n",
       "      <th>2014</th>\n",
       "      <th>2015</th>\n",
       "      <th>2016</th>\n",
       "    </tr>\n",
       "  </thead>\n",
       "  <tbody>\n",
       "    <tr>\n",
       "      <th>0</th>\n",
       "      <td>Federal</td>\n",
       "      <td>0</td>\n",
       "      <td>149,852</td>\n",
       "      <td>158,216</td>\n",
       "      <td>168,144</td>\n",
       "      <td>177,600</td>\n",
       "      <td>186,364</td>\n",
       "      <td>190,844</td>\n",
       "      <td>197,285</td>\n",
       "      <td>198,414</td>\n",
       "      <td>205,087</td>\n",
       "      <td>206,968</td>\n",
       "      <td>214,774</td>\n",
       "      <td>216,915</td>\n",
       "      <td>214,989</td>\n",
       "      <td>209,561</td>\n",
       "      <td>195,622</td>\n",
       "      <td>188,311</td>\n",
       "    </tr>\n",
       "    <tr>\n",
       "      <th>1</th>\n",
       "      <td>Alabama</td>\n",
       "      <td>0</td>\n",
       "      <td>24,741</td>\n",
       "      <td>25,100</td>\n",
       "      <td>27,614</td>\n",
       "      <td>25,635</td>\n",
       "      <td>24,315</td>\n",
       "      <td>24,103</td>\n",
       "      <td>25,253</td>\n",
       "      <td>25,363</td>\n",
       "      <td>27,241</td>\n",
       "      <td>27,345</td>\n",
       "      <td>26,813</td>\n",
       "      <td>26,768</td>\n",
       "      <td>26,825</td>\n",
       "      <td>26,145</td>\n",
       "      <td>25,212</td>\n",
       "      <td>23,745</td>\n",
       "    </tr>\n",
       "    <tr>\n",
       "      <th>2</th>\n",
       "      <td>Alaska</td>\n",
       "      <td>1</td>\n",
       "      <td>4,570</td>\n",
       "      <td>4,351</td>\n",
       "      <td>4,472</td>\n",
       "      <td>4,534</td>\n",
       "      <td>4,798</td>\n",
       "      <td>5,052</td>\n",
       "      <td>5,151</td>\n",
       "      <td>4,997</td>\n",
       "      <td>5,472</td>\n",
       "      <td>5,369</td>\n",
       "      <td>6,216</td>\n",
       "      <td>6,308</td>\n",
       "      <td>5,081</td>\n",
       "      <td>6,323</td>\n",
       "      <td>5,247</td>\n",
       "      <td>4,378</td>\n",
       "    </tr>\n",
       "    <tr>\n",
       "      <th>3</th>\n",
       "      <td>Arizona</td>\n",
       "      <td>0</td>\n",
       "      <td>27,710</td>\n",
       "      <td>29,359</td>\n",
       "      <td>31,084</td>\n",
       "      <td>32,384</td>\n",
       "      <td>33,345</td>\n",
       "      <td>35,752</td>\n",
       "      <td>37,700</td>\n",
       "      <td>39,455</td>\n",
       "      <td>40,544</td>\n",
       "      <td>40,130</td>\n",
       "      <td>39,949</td>\n",
       "      <td>40,013</td>\n",
       "      <td>41,031</td>\n",
       "      <td>42,136</td>\n",
       "      <td>42,204</td>\n",
       "      <td>42,248</td>\n",
       "    </tr>\n",
       "    <tr>\n",
       "      <th>4</th>\n",
       "      <td>Arkansas</td>\n",
       "      <td>0</td>\n",
       "      <td>11,489</td>\n",
       "      <td>11,849</td>\n",
       "      <td>12,068</td>\n",
       "      <td>12,577</td>\n",
       "      <td>12,455</td>\n",
       "      <td>12,854</td>\n",
       "      <td>13,275</td>\n",
       "      <td>13,135</td>\n",
       "      <td>13,338</td>\n",
       "      <td>14,192</td>\n",
       "      <td>14,090</td>\n",
       "      <td>14,043</td>\n",
       "      <td>14,295</td>\n",
       "      <td>15,250</td>\n",
       "      <td>15,784</td>\n",
       "      <td>15,833</td>\n",
       "    </tr>\n",
       "  </tbody>\n",
       "</table>\n",
       "</div>"
      ],
      "text/plain": [
       "  jurisdiction  includes_jails     2001     2002     2003     2004     2005  \\\n",
       "0      Federal               0  149,852  158,216  168,144  177,600  186,364   \n",
       "1      Alabama               0   24,741   25,100   27,614   25,635   24,315   \n",
       "2       Alaska               1    4,570    4,351    4,472    4,534    4,798   \n",
       "3      Arizona               0   27,710   29,359   31,084   32,384   33,345   \n",
       "4     Arkansas               0   11,489   11,849   12,068   12,577   12,455   \n",
       "\n",
       "      2006     2007     2008     2009     2010     2011     2012     2013  \\\n",
       "0  190,844  197,285  198,414  205,087  206,968  214,774  216,915  214,989   \n",
       "1   24,103   25,253   25,363   27,241   27,345   26,813   26,768   26,825   \n",
       "2    5,052    5,151    4,997    5,472    5,369    6,216    6,308    5,081   \n",
       "3   35,752   37,700   39,455   40,544   40,130   39,949   40,013   41,031   \n",
       "4   12,854   13,275   13,135   13,338   14,192   14,090   14,043   14,295   \n",
       "\n",
       "      2014     2015     2016  \n",
       "0  209,561  195,622  188,311  \n",
       "1   26,145   25,212   23,745  \n",
       "2    6,323    5,247    4,378  \n",
       "3   42,136   42,204   42,248  \n",
       "4   15,250   15,784   15,833  "
      ]
     },
     "execution_count": 2,
     "metadata": {},
     "output_type": "execute_result"
    }
   ],
   "source": [
    "st_data=pd.read_csv('prison_custody_by_state.csv')\n",
    "st_data.head()"
   ]
  },
  {
   "cell_type": "code",
   "execution_count": 3,
   "metadata": {},
   "outputs": [
    {
     "data": {
      "text/html": [
       "<div>\n",
       "<style scoped>\n",
       "    .dataframe tbody tr th:only-of-type {\n",
       "        vertical-align: middle;\n",
       "    }\n",
       "\n",
       "    .dataframe tbody tr th {\n",
       "        vertical-align: top;\n",
       "    }\n",
       "\n",
       "    .dataframe thead th {\n",
       "        text-align: right;\n",
       "    }\n",
       "</style>\n",
       "<table border=\"1\" class=\"dataframe\">\n",
       "  <thead>\n",
       "    <tr style=\"text-align: right;\">\n",
       "      <th></th>\n",
       "      <th>includes_jails</th>\n",
       "    </tr>\n",
       "  </thead>\n",
       "  <tbody>\n",
       "    <tr>\n",
       "      <th>count</th>\n",
       "      <td>51.000000</td>\n",
       "    </tr>\n",
       "    <tr>\n",
       "      <th>mean</th>\n",
       "      <td>0.117647</td>\n",
       "    </tr>\n",
       "    <tr>\n",
       "      <th>std</th>\n",
       "      <td>0.325396</td>\n",
       "    </tr>\n",
       "    <tr>\n",
       "      <th>min</th>\n",
       "      <td>0.000000</td>\n",
       "    </tr>\n",
       "    <tr>\n",
       "      <th>25%</th>\n",
       "      <td>0.000000</td>\n",
       "    </tr>\n",
       "    <tr>\n",
       "      <th>50%</th>\n",
       "      <td>0.000000</td>\n",
       "    </tr>\n",
       "    <tr>\n",
       "      <th>75%</th>\n",
       "      <td>0.000000</td>\n",
       "    </tr>\n",
       "    <tr>\n",
       "      <th>max</th>\n",
       "      <td>1.000000</td>\n",
       "    </tr>\n",
       "  </tbody>\n",
       "</table>\n",
       "</div>"
      ],
      "text/plain": [
       "       includes_jails\n",
       "count       51.000000\n",
       "mean         0.117647\n",
       "std          0.325396\n",
       "min          0.000000\n",
       "25%          0.000000\n",
       "50%          0.000000\n",
       "75%          0.000000\n",
       "max          1.000000"
      ]
     },
     "execution_count": 3,
     "metadata": {},
     "output_type": "execute_result"
    }
   ],
   "source": [
    "st_data.describe()"
   ]
  },
  {
   "cell_type": "code",
   "execution_count": 4,
   "metadata": {},
   "outputs": [
    {
     "name": "stdout",
     "output_type": "stream",
     "text": [
      "<class 'pandas.core.frame.DataFrame'>\n",
      "RangeIndex: 51 entries, 0 to 50\n",
      "Data columns (total 18 columns):\n",
      " #   Column          Non-Null Count  Dtype \n",
      "---  ------          --------------  ----- \n",
      " 0   jurisdiction    51 non-null     object\n",
      " 1   includes_jails  51 non-null     int64 \n",
      " 2   2001            51 non-null     object\n",
      " 3   2002            51 non-null     object\n",
      " 4   2003            51 non-null     object\n",
      " 5   2004            51 non-null     object\n",
      " 6   2005            51 non-null     object\n",
      " 7   2006            51 non-null     object\n",
      " 8   2007            51 non-null     object\n",
      " 9   2008            51 non-null     object\n",
      " 10  2009            51 non-null     object\n",
      " 11  2010            51 non-null     object\n",
      " 12  2011            51 non-null     object\n",
      " 13  2012            51 non-null     object\n",
      " 14  2013            51 non-null     object\n",
      " 15  2014            51 non-null     object\n",
      " 16  2015            51 non-null     object\n",
      " 17  2016            51 non-null     object\n",
      "dtypes: int64(1), object(17)\n",
      "memory usage: 7.3+ KB\n"
     ]
    }
   ],
   "source": [
    "st_data.info()"
   ]
  },
  {
   "cell_type": "code",
   "execution_count": 5,
   "metadata": {},
   "outputs": [
    {
     "data": {
      "text/plain": [
       "Michigan          1\n",
       "Illinois          1\n",
       "Wisconsin         1\n",
       "New Hampshire     1\n",
       "New Mexico        1\n",
       "Virginia          1\n",
       "Colorado          1\n",
       "West Virginia     1\n",
       "Connecticut       1\n",
       "Maryland          1\n",
       "Utah              1\n",
       "Washington        1\n",
       "South Dakota      1\n",
       "Iowa              1\n",
       "Pennsylvania      1\n",
       "Alabama           1\n",
       "Oklahoma          1\n",
       "New York          1\n",
       "Kentucky          1\n",
       "New Jersey        1\n",
       "Vermont           1\n",
       "Florida           1\n",
       "Minnesota         1\n",
       "Rhode Island      1\n",
       "Georgia           1\n",
       "Tennessee         1\n",
       "South Carolina    1\n",
       "Nebraska          1\n",
       "Indiana           1\n",
       "Kansas            1\n",
       "Delaware          1\n",
       "Massachusetts     1\n",
       "Ohio              1\n",
       "Oregon            1\n",
       "Missouri          1\n",
       "Louisiana         1\n",
       "Arizona           1\n",
       "Montana           1\n",
       "Mississippi       1\n",
       "Idaho             1\n",
       "Wyoming           1\n",
       "North Dakota      1\n",
       "North Carolina    1\n",
       "Nevada            1\n",
       "Texas             1\n",
       "Arkansas          1\n",
       "Alaska            1\n",
       "Hawaii            1\n",
       "California        1\n",
       "Maine             1\n",
       "Federal           1\n",
       "Name: jurisdiction, dtype: int64"
      ]
     },
     "execution_count": 5,
     "metadata": {},
     "output_type": "execute_result"
    }
   ],
   "source": [
    "st_data['jurisdiction'].value_counts()"
   ]
  },
  {
   "cell_type": "code",
   "execution_count": 6,
   "metadata": {},
   "outputs": [
    {
     "data": {
      "text/plain": [
       "jurisdiction      0\n",
       "includes_jails    0\n",
       "2001              0\n",
       "2002              0\n",
       "2003              0\n",
       "2004              0\n",
       "2005              0\n",
       "2006              0\n",
       "2007              0\n",
       "2008              0\n",
       "2009              0\n",
       "2010              0\n",
       "2011              0\n",
       "2012              0\n",
       "2013              0\n",
       "2014              0\n",
       "2015              0\n",
       "2016              0\n",
       "dtype: int64"
      ]
     },
     "execution_count": 6,
     "metadata": {},
     "output_type": "execute_result"
    }
   ],
   "source": [
    "st_data.isnull().sum()"
   ]
  },
  {
   "cell_type": "code",
   "execution_count": 7,
   "metadata": {},
   "outputs": [
    {
     "data": {
      "text/plain": [
       "jurisdiction      0\n",
       "includes_jails    0\n",
       "2001              0\n",
       "2002              0\n",
       "2003              0\n",
       "2004              0\n",
       "2005              0\n",
       "2006              0\n",
       "2007              0\n",
       "2008              0\n",
       "2009              0\n",
       "2010              0\n",
       "2011              0\n",
       "2012              0\n",
       "2013              0\n",
       "2014              0\n",
       "2015              0\n",
       "2016              0\n",
       "dtype: int64"
      ]
     },
     "execution_count": 7,
     "metadata": {},
     "output_type": "execute_result"
    }
   ],
   "source": [
    "st_data =st_data.dropna()\n",
    "st_data.isnull().sum()"
   ]
  },
  {
   "cell_type": "markdown",
   "metadata": {},
   "source": [
    "#### Dropping unnecessary columns"
   ]
  },
  {
   "cell_type": "code",
   "execution_count": 8,
   "metadata": {},
   "outputs": [],
   "source": [
    "st_data = st_data.drop(['includes_jails'], axis = 1)"
   ]
  },
  {
   "cell_type": "code",
   "execution_count": 9,
   "metadata": {},
   "outputs": [
    {
     "data": {
      "text/html": [
       "<div>\n",
       "<style scoped>\n",
       "    .dataframe tbody tr th:only-of-type {\n",
       "        vertical-align: middle;\n",
       "    }\n",
       "\n",
       "    .dataframe tbody tr th {\n",
       "        vertical-align: top;\n",
       "    }\n",
       "\n",
       "    .dataframe thead th {\n",
       "        text-align: right;\n",
       "    }\n",
       "</style>\n",
       "<table border=\"1\" class=\"dataframe\">\n",
       "  <thead>\n",
       "    <tr style=\"text-align: right;\">\n",
       "      <th></th>\n",
       "      <th>jurisdiction</th>\n",
       "      <th>2001</th>\n",
       "      <th>2002</th>\n",
       "      <th>2003</th>\n",
       "      <th>2004</th>\n",
       "      <th>2005</th>\n",
       "      <th>2006</th>\n",
       "      <th>2007</th>\n",
       "      <th>2008</th>\n",
       "      <th>2009</th>\n",
       "      <th>2010</th>\n",
       "      <th>2011</th>\n",
       "      <th>2012</th>\n",
       "      <th>2013</th>\n",
       "      <th>2014</th>\n",
       "      <th>2015</th>\n",
       "      <th>2016</th>\n",
       "    </tr>\n",
       "  </thead>\n",
       "  <tbody>\n",
       "    <tr>\n",
       "      <th>0</th>\n",
       "      <td>Federal</td>\n",
       "      <td>149,852</td>\n",
       "      <td>158,216</td>\n",
       "      <td>168,144</td>\n",
       "      <td>177,600</td>\n",
       "      <td>186,364</td>\n",
       "      <td>190,844</td>\n",
       "      <td>197,285</td>\n",
       "      <td>198,414</td>\n",
       "      <td>205,087</td>\n",
       "      <td>206,968</td>\n",
       "      <td>214,774</td>\n",
       "      <td>216,915</td>\n",
       "      <td>214,989</td>\n",
       "      <td>209,561</td>\n",
       "      <td>195,622</td>\n",
       "      <td>188,311</td>\n",
       "    </tr>\n",
       "    <tr>\n",
       "      <th>1</th>\n",
       "      <td>Alabama</td>\n",
       "      <td>24,741</td>\n",
       "      <td>25,100</td>\n",
       "      <td>27,614</td>\n",
       "      <td>25,635</td>\n",
       "      <td>24,315</td>\n",
       "      <td>24,103</td>\n",
       "      <td>25,253</td>\n",
       "      <td>25,363</td>\n",
       "      <td>27,241</td>\n",
       "      <td>27,345</td>\n",
       "      <td>26,813</td>\n",
       "      <td>26,768</td>\n",
       "      <td>26,825</td>\n",
       "      <td>26,145</td>\n",
       "      <td>25,212</td>\n",
       "      <td>23,745</td>\n",
       "    </tr>\n",
       "    <tr>\n",
       "      <th>2</th>\n",
       "      <td>Alaska</td>\n",
       "      <td>4,570</td>\n",
       "      <td>4,351</td>\n",
       "      <td>4,472</td>\n",
       "      <td>4,534</td>\n",
       "      <td>4,798</td>\n",
       "      <td>5,052</td>\n",
       "      <td>5,151</td>\n",
       "      <td>4,997</td>\n",
       "      <td>5,472</td>\n",
       "      <td>5,369</td>\n",
       "      <td>6,216</td>\n",
       "      <td>6,308</td>\n",
       "      <td>5,081</td>\n",
       "      <td>6,323</td>\n",
       "      <td>5,247</td>\n",
       "      <td>4,378</td>\n",
       "    </tr>\n",
       "    <tr>\n",
       "      <th>3</th>\n",
       "      <td>Arizona</td>\n",
       "      <td>27,710</td>\n",
       "      <td>29,359</td>\n",
       "      <td>31,084</td>\n",
       "      <td>32,384</td>\n",
       "      <td>33,345</td>\n",
       "      <td>35,752</td>\n",
       "      <td>37,700</td>\n",
       "      <td>39,455</td>\n",
       "      <td>40,544</td>\n",
       "      <td>40,130</td>\n",
       "      <td>39,949</td>\n",
       "      <td>40,013</td>\n",
       "      <td>41,031</td>\n",
       "      <td>42,136</td>\n",
       "      <td>42,204</td>\n",
       "      <td>42,248</td>\n",
       "    </tr>\n",
       "    <tr>\n",
       "      <th>4</th>\n",
       "      <td>Arkansas</td>\n",
       "      <td>11,489</td>\n",
       "      <td>11,849</td>\n",
       "      <td>12,068</td>\n",
       "      <td>12,577</td>\n",
       "      <td>12,455</td>\n",
       "      <td>12,854</td>\n",
       "      <td>13,275</td>\n",
       "      <td>13,135</td>\n",
       "      <td>13,338</td>\n",
       "      <td>14,192</td>\n",
       "      <td>14,090</td>\n",
       "      <td>14,043</td>\n",
       "      <td>14,295</td>\n",
       "      <td>15,250</td>\n",
       "      <td>15,784</td>\n",
       "      <td>15,833</td>\n",
       "    </tr>\n",
       "  </tbody>\n",
       "</table>\n",
       "</div>"
      ],
      "text/plain": [
       "  jurisdiction     2001     2002     2003     2004     2005     2006     2007  \\\n",
       "0      Federal  149,852  158,216  168,144  177,600  186,364  190,844  197,285   \n",
       "1      Alabama   24,741   25,100   27,614   25,635   24,315   24,103   25,253   \n",
       "2       Alaska    4,570    4,351    4,472    4,534    4,798    5,052    5,151   \n",
       "3      Arizona   27,710   29,359   31,084   32,384   33,345   35,752   37,700   \n",
       "4     Arkansas   11,489   11,849   12,068   12,577   12,455   12,854   13,275   \n",
       "\n",
       "      2008     2009     2010     2011     2012     2013     2014     2015  \\\n",
       "0  198,414  205,087  206,968  214,774  216,915  214,989  209,561  195,622   \n",
       "1   25,363   27,241   27,345   26,813   26,768   26,825   26,145   25,212   \n",
       "2    4,997    5,472    5,369    6,216    6,308    5,081    6,323    5,247   \n",
       "3   39,455   40,544   40,130   39,949   40,013   41,031   42,136   42,204   \n",
       "4   13,135   13,338   14,192   14,090   14,043   14,295   15,250   15,784   \n",
       "\n",
       "      2016  \n",
       "0  188,311  \n",
       "1   23,745  \n",
       "2    4,378  \n",
       "3   42,248  \n",
       "4   15,833  "
      ]
     },
     "execution_count": 9,
     "metadata": {},
     "output_type": "execute_result"
    }
   ],
   "source": [
    "st_data.head()"
   ]
  },
  {
   "cell_type": "markdown",
   "metadata": {},
   "source": [
    "#### Converting year columns into rows"
   ]
  },
  {
   "cell_type": "code",
   "execution_count": 10,
   "metadata": {},
   "outputs": [],
   "source": [
    "st_data = st_data.melt(id_vars=[\"jurisdiction\"], \n",
    "        var_name=\"Year\", \n",
    "        value_name=\"Prison Population\")"
   ]
  },
  {
   "cell_type": "code",
   "execution_count": 11,
   "metadata": {},
   "outputs": [
    {
     "data": {
      "text/html": [
       "<div>\n",
       "<style scoped>\n",
       "    .dataframe tbody tr th:only-of-type {\n",
       "        vertical-align: middle;\n",
       "    }\n",
       "\n",
       "    .dataframe tbody tr th {\n",
       "        vertical-align: top;\n",
       "    }\n",
       "\n",
       "    .dataframe thead th {\n",
       "        text-align: right;\n",
       "    }\n",
       "</style>\n",
       "<table border=\"1\" class=\"dataframe\">\n",
       "  <thead>\n",
       "    <tr style=\"text-align: right;\">\n",
       "      <th></th>\n",
       "      <th>jurisdiction</th>\n",
       "      <th>Year</th>\n",
       "      <th>Prison Population</th>\n",
       "    </tr>\n",
       "  </thead>\n",
       "  <tbody>\n",
       "    <tr>\n",
       "      <th>0</th>\n",
       "      <td>Federal</td>\n",
       "      <td>2001</td>\n",
       "      <td>149,852</td>\n",
       "    </tr>\n",
       "    <tr>\n",
       "      <th>1</th>\n",
       "      <td>Alabama</td>\n",
       "      <td>2001</td>\n",
       "      <td>24,741</td>\n",
       "    </tr>\n",
       "    <tr>\n",
       "      <th>2</th>\n",
       "      <td>Alaska</td>\n",
       "      <td>2001</td>\n",
       "      <td>4,570</td>\n",
       "    </tr>\n",
       "    <tr>\n",
       "      <th>3</th>\n",
       "      <td>Arizona</td>\n",
       "      <td>2001</td>\n",
       "      <td>27,710</td>\n",
       "    </tr>\n",
       "    <tr>\n",
       "      <th>4</th>\n",
       "      <td>Arkansas</td>\n",
       "      <td>2001</td>\n",
       "      <td>11,489</td>\n",
       "    </tr>\n",
       "  </tbody>\n",
       "</table>\n",
       "</div>"
      ],
      "text/plain": [
       "  jurisdiction  Year Prison Population\n",
       "0      Federal  2001           149,852\n",
       "1      Alabama  2001            24,741\n",
       "2       Alaska  2001             4,570\n",
       "3      Arizona  2001            27,710\n",
       "4     Arkansas  2001            11,489"
      ]
     },
     "execution_count": 11,
     "metadata": {},
     "output_type": "execute_result"
    }
   ],
   "source": [
    "st_data.head()"
   ]
  },
  {
   "cell_type": "markdown",
   "metadata": {},
   "source": [
    "#### Creating list for individual state analysis."
   ]
  },
  {
   "cell_type": "code",
   "execution_count": 12,
   "metadata": {},
   "outputs": [],
   "source": [
    "STATES = ['Louisiana', 'Pennsylvania', 'Iowa','Massachusetts']"
   ]
  },
  {
   "cell_type": "code",
   "execution_count": 13,
   "metadata": {},
   "outputs": [
    {
     "data": {
      "text/html": [
       "<div>\n",
       "<style scoped>\n",
       "    .dataframe tbody tr th:only-of-type {\n",
       "        vertical-align: middle;\n",
       "    }\n",
       "\n",
       "    .dataframe tbody tr th {\n",
       "        vertical-align: top;\n",
       "    }\n",
       "\n",
       "    .dataframe thead th {\n",
       "        text-align: right;\n",
       "    }\n",
       "</style>\n",
       "<table border=\"1\" class=\"dataframe\">\n",
       "  <thead>\n",
       "    <tr style=\"text-align: right;\">\n",
       "      <th></th>\n",
       "      <th>jurisdiction</th>\n",
       "      <th>Year</th>\n",
       "      <th>Prison Population</th>\n",
       "    </tr>\n",
       "  </thead>\n",
       "  <tbody>\n",
       "    <tr>\n",
       "      <th>15</th>\n",
       "      <td>Iowa</td>\n",
       "      <td>2001</td>\n",
       "      <td>7,962</td>\n",
       "    </tr>\n",
       "    <tr>\n",
       "      <th>18</th>\n",
       "      <td>Louisiana</td>\n",
       "      <td>2001</td>\n",
       "      <td>19,660</td>\n",
       "    </tr>\n",
       "    <tr>\n",
       "      <th>21</th>\n",
       "      <td>Massachusetts</td>\n",
       "      <td>2001</td>\n",
       "      <td>10,203</td>\n",
       "    </tr>\n",
       "    <tr>\n",
       "      <th>38</th>\n",
       "      <td>Pennsylvania</td>\n",
       "      <td>2001</td>\n",
       "      <td>37,641</td>\n",
       "    </tr>\n",
       "    <tr>\n",
       "      <th>66</th>\n",
       "      <td>Iowa</td>\n",
       "      <td>2002</td>\n",
       "      <td>8,398</td>\n",
       "    </tr>\n",
       "  </tbody>\n",
       "</table>\n",
       "</div>"
      ],
      "text/plain": [
       "     jurisdiction  Year Prison Population\n",
       "15           Iowa  2001             7,962\n",
       "18      Louisiana  2001            19,660\n",
       "21  Massachusetts  2001            10,203\n",
       "38   Pennsylvania  2001            37,641\n",
       "66           Iowa  2002             8,398"
      ]
     },
     "execution_count": 13,
     "metadata": {},
     "output_type": "execute_result"
    }
   ],
   "source": [
    "st_data=st_data[st_data.jurisdiction.isin(STATES)]\n",
    "st_data.head()"
   ]
  },
  {
   "cell_type": "code",
   "execution_count": 14,
   "metadata": {},
   "outputs": [
    {
     "name": "stdout",
     "output_type": "stream",
     "text": [
      "<class 'pandas.core.frame.DataFrame'>\n",
      "Int64Index: 64 entries, 15 to 803\n",
      "Data columns (total 3 columns):\n",
      " #   Column             Non-Null Count  Dtype \n",
      "---  ------             --------------  ----- \n",
      " 0   jurisdiction       64 non-null     object\n",
      " 1   Year               64 non-null     object\n",
      " 2   Prison Population  64 non-null     object\n",
      "dtypes: object(3)\n",
      "memory usage: 2.0+ KB\n"
     ]
    }
   ],
   "source": [
    "st_data.info()"
   ]
  },
  {
   "cell_type": "markdown",
   "metadata": {},
   "source": [
    "#### Renaming 'jurisdiction' column to 'State'"
   ]
  },
  {
   "cell_type": "code",
   "execution_count": 15,
   "metadata": {},
   "outputs": [],
   "source": [
    "st_data = st_data.rename(columns={\"jurisdiction\": \"State\"})"
   ]
  },
  {
   "cell_type": "code",
   "execution_count": 16,
   "metadata": {},
   "outputs": [
    {
     "data": {
      "text/html": [
       "<div>\n",
       "<style scoped>\n",
       "    .dataframe tbody tr th:only-of-type {\n",
       "        vertical-align: middle;\n",
       "    }\n",
       "\n",
       "    .dataframe tbody tr th {\n",
       "        vertical-align: top;\n",
       "    }\n",
       "\n",
       "    .dataframe thead th {\n",
       "        text-align: right;\n",
       "    }\n",
       "</style>\n",
       "<table border=\"1\" class=\"dataframe\">\n",
       "  <thead>\n",
       "    <tr style=\"text-align: right;\">\n",
       "      <th></th>\n",
       "      <th>State</th>\n",
       "      <th>Year</th>\n",
       "      <th>Prison Population</th>\n",
       "    </tr>\n",
       "  </thead>\n",
       "  <tbody>\n",
       "    <tr>\n",
       "      <th>15</th>\n",
       "      <td>Iowa</td>\n",
       "      <td>2001</td>\n",
       "      <td>7,962</td>\n",
       "    </tr>\n",
       "    <tr>\n",
       "      <th>18</th>\n",
       "      <td>Louisiana</td>\n",
       "      <td>2001</td>\n",
       "      <td>19,660</td>\n",
       "    </tr>\n",
       "    <tr>\n",
       "      <th>21</th>\n",
       "      <td>Massachusetts</td>\n",
       "      <td>2001</td>\n",
       "      <td>10,203</td>\n",
       "    </tr>\n",
       "    <tr>\n",
       "      <th>38</th>\n",
       "      <td>Pennsylvania</td>\n",
       "      <td>2001</td>\n",
       "      <td>37,641</td>\n",
       "    </tr>\n",
       "    <tr>\n",
       "      <th>66</th>\n",
       "      <td>Iowa</td>\n",
       "      <td>2002</td>\n",
       "      <td>8,398</td>\n",
       "    </tr>\n",
       "  </tbody>\n",
       "</table>\n",
       "</div>"
      ],
      "text/plain": [
       "            State  Year Prison Population\n",
       "15           Iowa  2001             7,962\n",
       "18      Louisiana  2001            19,660\n",
       "21  Massachusetts  2001            10,203\n",
       "38   Pennsylvania  2001            37,641\n",
       "66           Iowa  2002             8,398"
      ]
     },
     "execution_count": 16,
     "metadata": {},
     "output_type": "execute_result"
    }
   ],
   "source": [
    "st_data.head()"
   ]
  },
  {
   "cell_type": "markdown",
   "metadata": {},
   "source": [
    "#### Converting st_data to datetime"
   ]
  },
  {
   "cell_type": "code",
   "execution_count": 17,
   "metadata": {},
   "outputs": [],
   "source": [
    "st_data.Year = pd.to_datetime(st_data.Year, format='%Y')"
   ]
  },
  {
   "cell_type": "code",
   "execution_count": 18,
   "metadata": {},
   "outputs": [
    {
     "name": "stdout",
     "output_type": "stream",
     "text": [
      "<class 'pandas.core.frame.DataFrame'>\n",
      "Int64Index: 64 entries, 15 to 803\n",
      "Data columns (total 3 columns):\n",
      " #   Column             Non-Null Count  Dtype         \n",
      "---  ------             --------------  -----         \n",
      " 0   State              64 non-null     object        \n",
      " 1   Year               64 non-null     datetime64[ns]\n",
      " 2   Prison Population  64 non-null     object        \n",
      "dtypes: datetime64[ns](1), object(2)\n",
      "memory usage: 2.0+ KB\n"
     ]
    }
   ],
   "source": [
    "st_data.info()"
   ]
  },
  {
   "cell_type": "markdown",
   "metadata": {},
   "source": [
    "#### Cleaning up data before pivoting "
   ]
  },
  {
   "cell_type": "code",
   "execution_count": 19,
   "metadata": {},
   "outputs": [],
   "source": [
    "st_data = st_data.replace(',','', regex=True)"
   ]
  },
  {
   "cell_type": "code",
   "execution_count": 20,
   "metadata": {},
   "outputs": [],
   "source": [
    "st_data[\"Prison Population\"] = st_data[\"Prison Population\"].astype(float)"
   ]
  },
  {
   "cell_type": "markdown",
   "metadata": {},
   "source": [
    "#### Pivoting st_data for EDA"
   ]
  },
  {
   "cell_type": "code",
   "execution_count": 21,
   "metadata": {},
   "outputs": [
    {
     "data": {
      "text/html": [
       "<div>\n",
       "<style scoped>\n",
       "    .dataframe tbody tr th:only-of-type {\n",
       "        vertical-align: middle;\n",
       "    }\n",
       "\n",
       "    .dataframe tbody tr th {\n",
       "        vertical-align: top;\n",
       "    }\n",
       "\n",
       "    .dataframe thead tr th {\n",
       "        text-align: left;\n",
       "    }\n",
       "\n",
       "    .dataframe thead tr:last-of-type th {\n",
       "        text-align: right;\n",
       "    }\n",
       "</style>\n",
       "<table border=\"1\" class=\"dataframe\">\n",
       "  <thead>\n",
       "    <tr>\n",
       "      <th></th>\n",
       "      <th colspan=\"4\" halign=\"left\">Prison Population</th>\n",
       "    </tr>\n",
       "    <tr>\n",
       "      <th>State</th>\n",
       "      <th>Iowa</th>\n",
       "      <th>Louisiana</th>\n",
       "      <th>Massachusetts</th>\n",
       "      <th>Pennsylvania</th>\n",
       "    </tr>\n",
       "    <tr>\n",
       "      <th>Year</th>\n",
       "      <th></th>\n",
       "      <th></th>\n",
       "      <th></th>\n",
       "      <th></th>\n",
       "    </tr>\n",
       "  </thead>\n",
       "  <tbody>\n",
       "    <tr>\n",
       "      <th>2001-01-01</th>\n",
       "      <td>7962.0</td>\n",
       "      <td>19660.0</td>\n",
       "      <td>10203.0</td>\n",
       "      <td>37641.0</td>\n",
       "    </tr>\n",
       "    <tr>\n",
       "      <th>2002-01-01</th>\n",
       "      <td>8398.0</td>\n",
       "      <td>20010.0</td>\n",
       "      <td>9879.0</td>\n",
       "      <td>39724.0</td>\n",
       "    </tr>\n",
       "    <tr>\n",
       "      <th>2003-01-01</th>\n",
       "      <td>8546.0</td>\n",
       "      <td>19498.0</td>\n",
       "      <td>9828.0</td>\n",
       "      <td>40879.0</td>\n",
       "    </tr>\n",
       "    <tr>\n",
       "      <th>2004-01-01</th>\n",
       "      <td>8525.0</td>\n",
       "      <td>19470.0</td>\n",
       "      <td>9825.0</td>\n",
       "      <td>40506.0</td>\n",
       "    </tr>\n",
       "    <tr>\n",
       "      <th>2005-01-01</th>\n",
       "      <td>8737.0</td>\n",
       "      <td>19371.0</td>\n",
       "      <td>10348.0</td>\n",
       "      <td>41941.0</td>\n",
       "    </tr>\n",
       "  </tbody>\n",
       "</table>\n",
       "</div>"
      ],
      "text/plain": [
       "           Prison Population                                     \n",
       "State                   Iowa Louisiana Massachusetts Pennsylvania\n",
       "Year                                                             \n",
       "2001-01-01            7962.0   19660.0       10203.0      37641.0\n",
       "2002-01-01            8398.0   20010.0        9879.0      39724.0\n",
       "2003-01-01            8546.0   19498.0        9828.0      40879.0\n",
       "2004-01-01            8525.0   19470.0        9825.0      40506.0\n",
       "2005-01-01            8737.0   19371.0       10348.0      41941.0"
      ]
     },
     "execution_count": 21,
     "metadata": {},
     "output_type": "execute_result"
    }
   ],
   "source": [
    "st_data = pd.pivot_table(st_data, values=['Prison Population'], index='Year',\n",
    "                    columns=['State'])\n",
    "st_data.head()"
   ]
  },
  {
   "cell_type": "code",
   "execution_count": 22,
   "metadata": {},
   "outputs": [
    {
     "name": "stdout",
     "output_type": "stream",
     "text": [
      "<class 'pandas.core.frame.DataFrame'>\n",
      "DatetimeIndex: 16 entries, 2001-01-01 to 2016-01-01\n",
      "Data columns (total 4 columns):\n",
      " #   Column                              Non-Null Count  Dtype  \n",
      "---  ------                              --------------  -----  \n",
      " 0   (Prison Population, Iowa)           16 non-null     float64\n",
      " 1   (Prison Population, Louisiana)      16 non-null     float64\n",
      " 2   (Prison Population, Massachusetts)  16 non-null     float64\n",
      " 3   (Prison Population, Pennsylvania)   16 non-null     float64\n",
      "dtypes: float64(4)\n",
      "memory usage: 640.0 bytes\n"
     ]
    }
   ],
   "source": [
    "st_data.info()"
   ]
  },
  {
   "cell_type": "markdown",
   "metadata": {},
   "source": [
    "### Iowa Recidivism  1\n",
    "##### Having sourced two incomplete datsets on Iowa recidivism, both need to be cleaned and joined "
   ]
  },
  {
   "cell_type": "code",
   "execution_count": 23,
   "metadata": {},
   "outputs": [
    {
     "data": {
      "text/html": [
       "<div>\n",
       "<style scoped>\n",
       "    .dataframe tbody tr th:only-of-type {\n",
       "        vertical-align: middle;\n",
       "    }\n",
       "\n",
       "    .dataframe tbody tr th {\n",
       "        vertical-align: top;\n",
       "    }\n",
       "\n",
       "    .dataframe thead th {\n",
       "        text-align: right;\n",
       "    }\n",
       "</style>\n",
       "<table border=\"1\" class=\"dataframe\">\n",
       "  <thead>\n",
       "    <tr style=\"text-align: right;\">\n",
       "      <th></th>\n",
       "      <th>Fiscal Year Released</th>\n",
       "      <th>Recidivism Reporting Year</th>\n",
       "      <th>Main Supervising District</th>\n",
       "      <th>Release Type</th>\n",
       "      <th>Race - Ethnicity</th>\n",
       "      <th>Age At Release</th>\n",
       "      <th>Sex</th>\n",
       "      <th>Offense Classification</th>\n",
       "      <th>Offense Type</th>\n",
       "      <th>Offense Subtype</th>\n",
       "      <th>Return to Prison</th>\n",
       "      <th>Days to Return</th>\n",
       "      <th>Recidivism Type</th>\n",
       "      <th>New Offense Classification</th>\n",
       "      <th>New Offense Type</th>\n",
       "      <th>New Offense Sub Type</th>\n",
       "      <th>Target Population</th>\n",
       "    </tr>\n",
       "  </thead>\n",
       "  <tbody>\n",
       "    <tr>\n",
       "      <th>0</th>\n",
       "      <td>2010</td>\n",
       "      <td>2013</td>\n",
       "      <td>7JD</td>\n",
       "      <td>Parole</td>\n",
       "      <td>Black - Non-Hispanic</td>\n",
       "      <td>25-34</td>\n",
       "      <td>Male</td>\n",
       "      <td>C Felony</td>\n",
       "      <td>Violent</td>\n",
       "      <td>Robbery</td>\n",
       "      <td>Yes</td>\n",
       "      <td>433.0</td>\n",
       "      <td>New</td>\n",
       "      <td>C Felony</td>\n",
       "      <td>Drug</td>\n",
       "      <td>Trafficking</td>\n",
       "      <td>Yes</td>\n",
       "    </tr>\n",
       "    <tr>\n",
       "      <th>1</th>\n",
       "      <td>2010</td>\n",
       "      <td>2013</td>\n",
       "      <td>NaN</td>\n",
       "      <td>Discharged – End of Sentence</td>\n",
       "      <td>White - Non-Hispanic</td>\n",
       "      <td>25-34</td>\n",
       "      <td>Male</td>\n",
       "      <td>D Felony</td>\n",
       "      <td>Property</td>\n",
       "      <td>Theft</td>\n",
       "      <td>Yes</td>\n",
       "      <td>453.0</td>\n",
       "      <td>Tech</td>\n",
       "      <td>NaN</td>\n",
       "      <td>NaN</td>\n",
       "      <td>NaN</td>\n",
       "      <td>No</td>\n",
       "    </tr>\n",
       "    <tr>\n",
       "      <th>2</th>\n",
       "      <td>2010</td>\n",
       "      <td>2013</td>\n",
       "      <td>5JD</td>\n",
       "      <td>Parole</td>\n",
       "      <td>White - Non-Hispanic</td>\n",
       "      <td>35-44</td>\n",
       "      <td>Male</td>\n",
       "      <td>B Felony</td>\n",
       "      <td>Drug</td>\n",
       "      <td>Trafficking</td>\n",
       "      <td>Yes</td>\n",
       "      <td>832.0</td>\n",
       "      <td>Tech</td>\n",
       "      <td>NaN</td>\n",
       "      <td>NaN</td>\n",
       "      <td>NaN</td>\n",
       "      <td>Yes</td>\n",
       "    </tr>\n",
       "    <tr>\n",
       "      <th>3</th>\n",
       "      <td>2010</td>\n",
       "      <td>2013</td>\n",
       "      <td>6JD</td>\n",
       "      <td>Parole</td>\n",
       "      <td>White - Non-Hispanic</td>\n",
       "      <td>25-34</td>\n",
       "      <td>Male</td>\n",
       "      <td>B Felony</td>\n",
       "      <td>Other</td>\n",
       "      <td>Other Criminal</td>\n",
       "      <td>No</td>\n",
       "      <td>NaN</td>\n",
       "      <td>No Recidivism</td>\n",
       "      <td>NaN</td>\n",
       "      <td>NaN</td>\n",
       "      <td>NaN</td>\n",
       "      <td>Yes</td>\n",
       "    </tr>\n",
       "    <tr>\n",
       "      <th>4</th>\n",
       "      <td>2010</td>\n",
       "      <td>2013</td>\n",
       "      <td>NaN</td>\n",
       "      <td>Discharged – End of Sentence</td>\n",
       "      <td>Black - Non-Hispanic</td>\n",
       "      <td>35-44</td>\n",
       "      <td>Male</td>\n",
       "      <td>D Felony</td>\n",
       "      <td>Violent</td>\n",
       "      <td>Assault</td>\n",
       "      <td>Yes</td>\n",
       "      <td>116.0</td>\n",
       "      <td>Tech</td>\n",
       "      <td>NaN</td>\n",
       "      <td>NaN</td>\n",
       "      <td>NaN</td>\n",
       "      <td>No</td>\n",
       "    </tr>\n",
       "  </tbody>\n",
       "</table>\n",
       "</div>"
      ],
      "text/plain": [
       "   Fiscal Year Released  Recidivism Reporting Year Main Supervising District  \\\n",
       "0                  2010                       2013                       7JD   \n",
       "1                  2010                       2013                       NaN   \n",
       "2                  2010                       2013                       5JD   \n",
       "3                  2010                       2013                       6JD   \n",
       "4                  2010                       2013                       NaN   \n",
       "\n",
       "                   Release Type      Race - Ethnicity Age At Release    Sex  \\\n",
       "0                        Parole  Black - Non-Hispanic           25-34  Male   \n",
       "1  Discharged – End of Sentence  White - Non-Hispanic           25-34  Male   \n",
       "2                        Parole  White - Non-Hispanic           35-44  Male   \n",
       "3                        Parole  White - Non-Hispanic           25-34  Male   \n",
       "4  Discharged – End of Sentence  Black - Non-Hispanic           35-44  Male   \n",
       "\n",
       "  Offense Classification Offense Type Offense Subtype Return to Prison  \\\n",
       "0               C Felony      Violent         Robbery              Yes   \n",
       "1               D Felony     Property           Theft              Yes   \n",
       "2               B Felony         Drug     Trafficking              Yes   \n",
       "3               B Felony        Other  Other Criminal               No   \n",
       "4               D Felony      Violent         Assault              Yes   \n",
       "\n",
       "   Days to Return Recidivism Type New Offense Classification New Offense Type  \\\n",
       "0           433.0             New                   C Felony             Drug   \n",
       "1           453.0            Tech                        NaN              NaN   \n",
       "2           832.0            Tech                        NaN              NaN   \n",
       "3             NaN   No Recidivism                        NaN              NaN   \n",
       "4           116.0            Tech                        NaN              NaN   \n",
       "\n",
       "  New Offense Sub Type Target Population  \n",
       "0          Trafficking               Yes  \n",
       "1                  NaN                No  \n",
       "2                  NaN               Yes  \n",
       "3                  NaN               Yes  \n",
       "4                  NaN                No  "
      ]
     },
     "execution_count": 23,
     "metadata": {},
     "output_type": "execute_result"
    }
   ],
   "source": [
    "df_IR = pd.read_csv('3YearIowa.csv')\n",
    "df_IR.head()"
   ]
  },
  {
   "cell_type": "code",
   "execution_count": 24,
   "metadata": {},
   "outputs": [
    {
     "name": "stdout",
     "output_type": "stream",
     "text": [
      "<class 'pandas.core.frame.DataFrame'>\n",
      "RangeIndex: 26020 entries, 0 to 26019\n",
      "Data columns (total 17 columns):\n",
      " #   Column                      Non-Null Count  Dtype  \n",
      "---  ------                      --------------  -----  \n",
      " 0   Fiscal Year Released        26020 non-null  int64  \n",
      " 1   Recidivism Reporting Year   26020 non-null  int64  \n",
      " 2   Main Supervising District   16439 non-null  object \n",
      " 3   Release Type                24258 non-null  object \n",
      " 4   Race - Ethnicity            25990 non-null  object \n",
      " 5   Age At Release              26017 non-null  object \n",
      " 6   Sex                         26017 non-null  object \n",
      " 7   Offense Classification      26020 non-null  object \n",
      " 8   Offense Type                26020 non-null  object \n",
      " 9   Offense Subtype             26020 non-null  object \n",
      " 10  Return to Prison            26020 non-null  object \n",
      " 11  Days to Return              8681 non-null   float64\n",
      " 12  Recidivism Type             26020 non-null  object \n",
      " 13  New Offense Classification  6718 non-null   object \n",
      " 14  New Offense Type            6718 non-null   object \n",
      " 15  New Offense Sub Type        6699 non-null   object \n",
      " 16  Target Population           26020 non-null  object \n",
      "dtypes: float64(1), int64(2), object(14)\n",
      "memory usage: 3.4+ MB\n"
     ]
    }
   ],
   "source": [
    "df_IR.info()"
   ]
  },
  {
   "cell_type": "markdown",
   "metadata": {},
   "source": [
    "##### Narrowing dataframe for merging "
   ]
  },
  {
   "cell_type": "code",
   "execution_count": 25,
   "metadata": {},
   "outputs": [],
   "source": [
    "df_IR = df_IR[['Fiscal Year Released', 'Race - Ethnicity', 'Main Supervising District', 'Sex',\n",
    "              'Recidivism Type', 'Age At Release ']]"
   ]
  },
  {
   "cell_type": "code",
   "execution_count": 26,
   "metadata": {},
   "outputs": [
    {
     "name": "stdout",
     "output_type": "stream",
     "text": [
      "<class 'pandas.core.frame.DataFrame'>\n",
      "RangeIndex: 26020 entries, 0 to 26019\n",
      "Data columns (total 6 columns):\n",
      " #   Column                     Non-Null Count  Dtype \n",
      "---  ------                     --------------  ----- \n",
      " 0   Fiscal Year Released       26020 non-null  int64 \n",
      " 1   Race - Ethnicity           25990 non-null  object\n",
      " 2   Main Supervising District  16439 non-null  object\n",
      " 3   Sex                        26017 non-null  object\n",
      " 4   Recidivism Type            26020 non-null  object\n",
      " 5   Age At Release             26017 non-null  object\n",
      "dtypes: int64(1), object(5)\n",
      "memory usage: 1.2+ MB\n"
     ]
    }
   ],
   "source": [
    "df_IR.info()"
   ]
  },
  {
   "cell_type": "code",
   "execution_count": 27,
   "metadata": {},
   "outputs": [
    {
     "data": {
      "text/html": [
       "<div>\n",
       "<style scoped>\n",
       "    .dataframe tbody tr th:only-of-type {\n",
       "        vertical-align: middle;\n",
       "    }\n",
       "\n",
       "    .dataframe tbody tr th {\n",
       "        vertical-align: top;\n",
       "    }\n",
       "\n",
       "    .dataframe thead th {\n",
       "        text-align: right;\n",
       "    }\n",
       "</style>\n",
       "<table border=\"1\" class=\"dataframe\">\n",
       "  <thead>\n",
       "    <tr style=\"text-align: right;\">\n",
       "      <th></th>\n",
       "      <th>Fiscal Year Released</th>\n",
       "      <th>Race - Ethnicity</th>\n",
       "      <th>Main Supervising District</th>\n",
       "      <th>Sex</th>\n",
       "      <th>Recidivism Type</th>\n",
       "      <th>Age At Release</th>\n",
       "    </tr>\n",
       "  </thead>\n",
       "  <tbody>\n",
       "    <tr>\n",
       "      <th>0</th>\n",
       "      <td>2010</td>\n",
       "      <td>Black - Non-Hispanic</td>\n",
       "      <td>7JD</td>\n",
       "      <td>Male</td>\n",
       "      <td>New</td>\n",
       "      <td>25-34</td>\n",
       "    </tr>\n",
       "    <tr>\n",
       "      <th>1</th>\n",
       "      <td>2010</td>\n",
       "      <td>White - Non-Hispanic</td>\n",
       "      <td>NaN</td>\n",
       "      <td>Male</td>\n",
       "      <td>Tech</td>\n",
       "      <td>25-34</td>\n",
       "    </tr>\n",
       "    <tr>\n",
       "      <th>2</th>\n",
       "      <td>2010</td>\n",
       "      <td>White - Non-Hispanic</td>\n",
       "      <td>5JD</td>\n",
       "      <td>Male</td>\n",
       "      <td>Tech</td>\n",
       "      <td>35-44</td>\n",
       "    </tr>\n",
       "    <tr>\n",
       "      <th>3</th>\n",
       "      <td>2010</td>\n",
       "      <td>White - Non-Hispanic</td>\n",
       "      <td>6JD</td>\n",
       "      <td>Male</td>\n",
       "      <td>No Recidivism</td>\n",
       "      <td>25-34</td>\n",
       "    </tr>\n",
       "    <tr>\n",
       "      <th>4</th>\n",
       "      <td>2010</td>\n",
       "      <td>Black - Non-Hispanic</td>\n",
       "      <td>NaN</td>\n",
       "      <td>Male</td>\n",
       "      <td>Tech</td>\n",
       "      <td>35-44</td>\n",
       "    </tr>\n",
       "  </tbody>\n",
       "</table>\n",
       "</div>"
      ],
      "text/plain": [
       "   Fiscal Year Released      Race - Ethnicity Main Supervising District   Sex  \\\n",
       "0                  2010  Black - Non-Hispanic                       7JD  Male   \n",
       "1                  2010  White - Non-Hispanic                       NaN  Male   \n",
       "2                  2010  White - Non-Hispanic                       5JD  Male   \n",
       "3                  2010  White - Non-Hispanic                       6JD  Male   \n",
       "4                  2010  Black - Non-Hispanic                       NaN  Male   \n",
       "\n",
       "  Recidivism Type Age At Release   \n",
       "0             New           25-34  \n",
       "1            Tech           25-34  \n",
       "2            Tech           35-44  \n",
       "3   No Recidivism           25-34  \n",
       "4            Tech           35-44  "
      ]
     },
     "execution_count": 27,
     "metadata": {},
     "output_type": "execute_result"
    }
   ],
   "source": [
    "df_IR.head()"
   ]
  },
  {
   "cell_type": "markdown",
   "metadata": {},
   "source": [
    "### Iowa Recidivism 2"
   ]
  },
  {
   "cell_type": "code",
   "execution_count": 28,
   "metadata": {},
   "outputs": [
    {
     "data": {
      "text/html": [
       "<div>\n",
       "<style scoped>\n",
       "    .dataframe tbody tr th:only-of-type {\n",
       "        vertical-align: middle;\n",
       "    }\n",
       "\n",
       "    .dataframe tbody tr th {\n",
       "        vertical-align: top;\n",
       "    }\n",
       "\n",
       "    .dataframe thead th {\n",
       "        text-align: right;\n",
       "    }\n",
       "</style>\n",
       "<table border=\"1\" class=\"dataframe\">\n",
       "  <thead>\n",
       "    <tr style=\"text-align: right;\">\n",
       "      <th></th>\n",
       "      <th>Fiscal Year Released</th>\n",
       "      <th>Recidivism Reporting Year</th>\n",
       "      <th>Race - Ethnicity</th>\n",
       "      <th>Age At Release</th>\n",
       "      <th>Convicting Offense Classification</th>\n",
       "      <th>Convicting Offense Type</th>\n",
       "      <th>Convicting Offense Subtype</th>\n",
       "      <th>Main Supervising District</th>\n",
       "      <th>Release Type</th>\n",
       "      <th>Release type: Paroled to Detainder united</th>\n",
       "      <th>Part of Target Population</th>\n",
       "      <th>Recidivism - Return to Prison numeric</th>\n",
       "    </tr>\n",
       "  </thead>\n",
       "  <tbody>\n",
       "    <tr>\n",
       "      <th>0</th>\n",
       "      <td>2010</td>\n",
       "      <td>2013</td>\n",
       "      <td>White - Non-Hispanic</td>\n",
       "      <td>Under 25</td>\n",
       "      <td>D Felony</td>\n",
       "      <td>Violent</td>\n",
       "      <td>Assault</td>\n",
       "      <td>4JD</td>\n",
       "      <td>Parole</td>\n",
       "      <td>Parole</td>\n",
       "      <td>Yes</td>\n",
       "      <td>1</td>\n",
       "    </tr>\n",
       "    <tr>\n",
       "      <th>1</th>\n",
       "      <td>2010</td>\n",
       "      <td>2013</td>\n",
       "      <td>White - Non-Hispanic</td>\n",
       "      <td>55 and Older</td>\n",
       "      <td>D Felony</td>\n",
       "      <td>Public Order</td>\n",
       "      <td>OWI</td>\n",
       "      <td>7JD</td>\n",
       "      <td>Parole</td>\n",
       "      <td>Parole</td>\n",
       "      <td>Yes</td>\n",
       "      <td>1</td>\n",
       "    </tr>\n",
       "    <tr>\n",
       "      <th>2</th>\n",
       "      <td>2010</td>\n",
       "      <td>2013</td>\n",
       "      <td>White - Non-Hispanic</td>\n",
       "      <td>25-34</td>\n",
       "      <td>D Felony</td>\n",
       "      <td>Property</td>\n",
       "      <td>Burglary</td>\n",
       "      <td>5JD</td>\n",
       "      <td>Parole</td>\n",
       "      <td>Parole</td>\n",
       "      <td>Yes</td>\n",
       "      <td>1</td>\n",
       "    </tr>\n",
       "    <tr>\n",
       "      <th>3</th>\n",
       "      <td>2010</td>\n",
       "      <td>2013</td>\n",
       "      <td>White - Non-Hispanic</td>\n",
       "      <td>55 and Older</td>\n",
       "      <td>C Felony</td>\n",
       "      <td>Drug</td>\n",
       "      <td>Trafficking</td>\n",
       "      <td>8JD</td>\n",
       "      <td>Parole</td>\n",
       "      <td>Parole</td>\n",
       "      <td>Yes</td>\n",
       "      <td>1</td>\n",
       "    </tr>\n",
       "    <tr>\n",
       "      <th>4</th>\n",
       "      <td>2010</td>\n",
       "      <td>2013</td>\n",
       "      <td>Black - Non-Hispanic</td>\n",
       "      <td>25-34</td>\n",
       "      <td>D Felony</td>\n",
       "      <td>Drug</td>\n",
       "      <td>Trafficking</td>\n",
       "      <td>3JD</td>\n",
       "      <td>Parole</td>\n",
       "      <td>Parole</td>\n",
       "      <td>Yes</td>\n",
       "      <td>1</td>\n",
       "    </tr>\n",
       "  </tbody>\n",
       "</table>\n",
       "</div>"
      ],
      "text/plain": [
       "   Fiscal Year Released  Recidivism Reporting Year      Race - Ethnicity  \\\n",
       "0                  2010                       2013  White - Non-Hispanic   \n",
       "1                  2010                       2013  White - Non-Hispanic   \n",
       "2                  2010                       2013  White - Non-Hispanic   \n",
       "3                  2010                       2013  White - Non-Hispanic   \n",
       "4                  2010                       2013  Black - Non-Hispanic   \n",
       "\n",
       "  Age At Release  Convicting Offense Classification Convicting Offense Type  \\\n",
       "0        Under 25                          D Felony                 Violent   \n",
       "1    55 and Older                          D Felony            Public Order   \n",
       "2           25-34                          D Felony                Property   \n",
       "3    55 and Older                          C Felony                    Drug   \n",
       "4           25-34                          D Felony                    Drug   \n",
       "\n",
       "  Convicting Offense Subtype Main Supervising District Release Type  \\\n",
       "0                    Assault                       4JD       Parole   \n",
       "1                        OWI                       7JD       Parole   \n",
       "2                   Burglary                       5JD       Parole   \n",
       "3                Trafficking                       8JD       Parole   \n",
       "4                Trafficking                       3JD       Parole   \n",
       "\n",
       "  Release type: Paroled to Detainder united Part of Target Population  \\\n",
       "0                                    Parole                       Yes   \n",
       "1                                    Parole                       Yes   \n",
       "2                                    Parole                       Yes   \n",
       "3                                    Parole                       Yes   \n",
       "4                                    Parole                       Yes   \n",
       "\n",
       "   Recidivism - Return to Prison numeric  \n",
       "0                                      1  \n",
       "1                                      1  \n",
       "2                                      1  \n",
       "3                                      1  \n",
       "4                                      1  "
      ]
     },
     "execution_count": 28,
     "metadata": {},
     "output_type": "execute_result"
    }
   ],
   "source": [
    "df_RI = pd.read_csv('3year_Iowa.csv')\n",
    "df_RI.head()"
   ]
  },
  {
   "cell_type": "code",
   "execution_count": 29,
   "metadata": {},
   "outputs": [
    {
     "data": {
      "text/plain": [
       "Fiscal Year Released                            0\n",
       "Recidivism Reporting Year                       0\n",
       "Race - Ethnicity                               30\n",
       "Age At Release                                  3\n",
       "Convicting Offense Classification               0\n",
       "Convicting Offense Type                         0\n",
       "Convicting Offense Subtype                      0\n",
       "Main Supervising District                    9581\n",
       "Release Type                                 1762\n",
       "Release type: Paroled to Detainder united    1762\n",
       "Part of Target Population                       0\n",
       "Recidivism - Return to Prison numeric           0\n",
       "dtype: int64"
      ]
     },
     "execution_count": 29,
     "metadata": {},
     "output_type": "execute_result"
    }
   ],
   "source": [
    "df_RI.isnull().sum()"
   ]
  },
  {
   "cell_type": "code",
   "execution_count": 30,
   "metadata": {},
   "outputs": [
    {
     "name": "stdout",
     "output_type": "stream",
     "text": [
      "<class 'pandas.core.frame.DataFrame'>\n",
      "RangeIndex: 26020 entries, 0 to 26019\n",
      "Data columns (total 12 columns):\n",
      " #   Column                                     Non-Null Count  Dtype \n",
      "---  ------                                     --------------  ----- \n",
      " 0   Fiscal Year Released                       26020 non-null  int64 \n",
      " 1   Recidivism Reporting Year                  26020 non-null  int64 \n",
      " 2   Race - Ethnicity                           25990 non-null  object\n",
      " 3   Age At Release                             26017 non-null  object\n",
      " 4   Convicting Offense Classification          26020 non-null  object\n",
      " 5   Convicting Offense Type                    26020 non-null  object\n",
      " 6   Convicting Offense Subtype                 26020 non-null  object\n",
      " 7   Main Supervising District                  16439 non-null  object\n",
      " 8   Release Type                               24258 non-null  object\n",
      " 9   Release type: Paroled to Detainder united  24258 non-null  object\n",
      " 10  Part of Target Population                  26020 non-null  object\n",
      " 11  Recidivism - Return to Prison numeric      26020 non-null  int64 \n",
      "dtypes: int64(3), object(9)\n",
      "memory usage: 2.4+ MB\n"
     ]
    }
   ],
   "source": [
    "df_RI.info()"
   ]
  },
  {
   "cell_type": "markdown",
   "metadata": {},
   "source": [
    "##### Comparing 'Release Type' columns"
   ]
  },
  {
   "cell_type": "code",
   "execution_count": 31,
   "metadata": {},
   "outputs": [
    {
     "data": {
      "text/plain": [
       "Parole                        15722\n",
       "Discharged End of Sentence     7374\n",
       "Special Sentence                748\n",
       "Paroled to Detainer             414\n",
       "Name: Release type: Paroled to Detainder united, dtype: int64"
      ]
     },
     "execution_count": 31,
     "metadata": {},
     "output_type": "execute_result"
    }
   ],
   "source": [
    "df_RI['Release type: Paroled to Detainder united'].value_counts()"
   ]
  },
  {
   "cell_type": "code",
   "execution_count": 32,
   "metadata": {},
   "outputs": [
    {
     "data": {
      "text/plain": [
       "Parole                                 15721\n",
       "Discharged End of Sentence              7374\n",
       "Special Sentence                         748\n",
       "Paroled to Detainer - Out of State       137\n",
       "Paroled to Detainer - INS                134\n",
       "Paroled to Detainer - U.S. Marshall       77\n",
       "Paroled to Detainer - Iowa                66\n",
       "Interstate Compact Parole                  1\n",
       "Name: Release Type, dtype: int64"
      ]
     },
     "execution_count": 32,
     "metadata": {},
     "output_type": "execute_result"
    }
   ],
   "source": [
    "df_RI['Release Type'].value_counts()"
   ]
  },
  {
   "cell_type": "markdown",
   "metadata": {},
   "source": [
    "### Final Iowa (JOINING IOWA 1 & 2)"
   ]
  },
  {
   "cell_type": "code",
   "execution_count": 33,
   "metadata": {},
   "outputs": [
    {
     "name": "stdout",
     "output_type": "stream",
     "text": [
      "<class 'pandas.core.frame.DataFrame'>\n",
      "RangeIndex: 26020 entries, 0 to 26019\n",
      "Data columns (total 18 columns):\n",
      " #   Column                                     Non-Null Count  Dtype \n",
      "---  ------                                     --------------  ----- \n",
      " 0   Fiscal Year Released                       26020 non-null  int64 \n",
      " 1   Recidivism Reporting Year                  26020 non-null  int64 \n",
      " 2   Race - Ethnicity                           25990 non-null  object\n",
      " 3   Age At Release                             26017 non-null  object\n",
      " 4   Convicting Offense Classification          26020 non-null  object\n",
      " 5   Convicting Offense Type                    26020 non-null  object\n",
      " 6   Convicting Offense Subtype                 26020 non-null  object\n",
      " 7   Main Supervising District                  16439 non-null  object\n",
      " 8   Release Type                               24258 non-null  object\n",
      " 9   Release type: Paroled to Detainder united  24258 non-null  object\n",
      " 10  Part of Target Population                  26020 non-null  object\n",
      " 11  Recidivism - Return to Prison numeric      26020 non-null  int64 \n",
      " 12  Fiscal Year Released_right                 26020 non-null  int64 \n",
      " 13  Race - Ethnicity_right                     25990 non-null  object\n",
      " 14  Main Supervising District_right            16439 non-null  object\n",
      " 15  Sex                                        26017 non-null  object\n",
      " 16  Recidivism Type                            26020 non-null  object\n",
      " 17  Age At Release _right                      26017 non-null  object\n",
      "dtypes: int64(4), object(14)\n",
      "memory usage: 3.6+ MB\n"
     ]
    }
   ],
   "source": [
    "data = df_RI.join(df_IR, rsuffix=\"_right\")\n",
    "data.info()"
   ]
  },
  {
   "cell_type": "markdown",
   "metadata": {},
   "source": [
    "##### Narrowing and ordering final dataframe"
   ]
  },
  {
   "cell_type": "code",
   "execution_count": 34,
   "metadata": {},
   "outputs": [],
   "source": [
    "data = data[['Fiscal Year Released', 'Recidivism Reporting Year', 'Race - Ethnicity', 'Sex', 'Age At Release ',\n",
    "            'Convicting Offense Classification', 'Convicting Offense Type', 'Convicting Offense Subtype',\n",
    "            'Release type: Paroled to Detainder united', 'Part of Target Population', 'Recidivism - Return to Prison numeric']]"
   ]
  },
  {
   "cell_type": "code",
   "execution_count": 35,
   "metadata": {},
   "outputs": [
    {
     "data": {
      "text/html": [
       "<div>\n",
       "<style scoped>\n",
       "    .dataframe tbody tr th:only-of-type {\n",
       "        vertical-align: middle;\n",
       "    }\n",
       "\n",
       "    .dataframe tbody tr th {\n",
       "        vertical-align: top;\n",
       "    }\n",
       "\n",
       "    .dataframe thead th {\n",
       "        text-align: right;\n",
       "    }\n",
       "</style>\n",
       "<table border=\"1\" class=\"dataframe\">\n",
       "  <thead>\n",
       "    <tr style=\"text-align: right;\">\n",
       "      <th></th>\n",
       "      <th>Fiscal Year Released</th>\n",
       "      <th>Recidivism Reporting Year</th>\n",
       "      <th>Race - Ethnicity</th>\n",
       "      <th>Sex</th>\n",
       "      <th>Age At Release</th>\n",
       "      <th>Convicting Offense Classification</th>\n",
       "      <th>Convicting Offense Type</th>\n",
       "      <th>Convicting Offense Subtype</th>\n",
       "      <th>Release type: Paroled to Detainder united</th>\n",
       "      <th>Part of Target Population</th>\n",
       "      <th>Recidivism - Return to Prison numeric</th>\n",
       "    </tr>\n",
       "  </thead>\n",
       "  <tbody>\n",
       "    <tr>\n",
       "      <th>0</th>\n",
       "      <td>2010</td>\n",
       "      <td>2013</td>\n",
       "      <td>White - Non-Hispanic</td>\n",
       "      <td>Male</td>\n",
       "      <td>Under 25</td>\n",
       "      <td>D Felony</td>\n",
       "      <td>Violent</td>\n",
       "      <td>Assault</td>\n",
       "      <td>Parole</td>\n",
       "      <td>Yes</td>\n",
       "      <td>1</td>\n",
       "    </tr>\n",
       "    <tr>\n",
       "      <th>1</th>\n",
       "      <td>2010</td>\n",
       "      <td>2013</td>\n",
       "      <td>White - Non-Hispanic</td>\n",
       "      <td>Male</td>\n",
       "      <td>55 and Older</td>\n",
       "      <td>D Felony</td>\n",
       "      <td>Public Order</td>\n",
       "      <td>OWI</td>\n",
       "      <td>Parole</td>\n",
       "      <td>Yes</td>\n",
       "      <td>1</td>\n",
       "    </tr>\n",
       "    <tr>\n",
       "      <th>2</th>\n",
       "      <td>2010</td>\n",
       "      <td>2013</td>\n",
       "      <td>White - Non-Hispanic</td>\n",
       "      <td>Male</td>\n",
       "      <td>25-34</td>\n",
       "      <td>D Felony</td>\n",
       "      <td>Property</td>\n",
       "      <td>Burglary</td>\n",
       "      <td>Parole</td>\n",
       "      <td>Yes</td>\n",
       "      <td>1</td>\n",
       "    </tr>\n",
       "    <tr>\n",
       "      <th>3</th>\n",
       "      <td>2010</td>\n",
       "      <td>2013</td>\n",
       "      <td>White - Non-Hispanic</td>\n",
       "      <td>Male</td>\n",
       "      <td>55 and Older</td>\n",
       "      <td>C Felony</td>\n",
       "      <td>Drug</td>\n",
       "      <td>Trafficking</td>\n",
       "      <td>Parole</td>\n",
       "      <td>Yes</td>\n",
       "      <td>1</td>\n",
       "    </tr>\n",
       "    <tr>\n",
       "      <th>4</th>\n",
       "      <td>2010</td>\n",
       "      <td>2013</td>\n",
       "      <td>Black - Non-Hispanic</td>\n",
       "      <td>Male</td>\n",
       "      <td>25-34</td>\n",
       "      <td>D Felony</td>\n",
       "      <td>Drug</td>\n",
       "      <td>Trafficking</td>\n",
       "      <td>Parole</td>\n",
       "      <td>Yes</td>\n",
       "      <td>1</td>\n",
       "    </tr>\n",
       "  </tbody>\n",
       "</table>\n",
       "</div>"
      ],
      "text/plain": [
       "   Fiscal Year Released  Recidivism Reporting Year      Race - Ethnicity  \\\n",
       "0                  2010                       2013  White - Non-Hispanic   \n",
       "1                  2010                       2013  White - Non-Hispanic   \n",
       "2                  2010                       2013  White - Non-Hispanic   \n",
       "3                  2010                       2013  White - Non-Hispanic   \n",
       "4                  2010                       2013  Black - Non-Hispanic   \n",
       "\n",
       "    Sex Age At Release  Convicting Offense Classification  \\\n",
       "0  Male        Under 25                          D Felony   \n",
       "1  Male    55 and Older                          D Felony   \n",
       "2  Male           25-34                          D Felony   \n",
       "3  Male    55 and Older                          C Felony   \n",
       "4  Male           25-34                          D Felony   \n",
       "\n",
       "  Convicting Offense Type Convicting Offense Subtype  \\\n",
       "0                 Violent                    Assault   \n",
       "1            Public Order                        OWI   \n",
       "2                Property                   Burglary   \n",
       "3                    Drug                Trafficking   \n",
       "4                    Drug                Trafficking   \n",
       "\n",
       "  Release type: Paroled to Detainder united Part of Target Population  \\\n",
       "0                                    Parole                       Yes   \n",
       "1                                    Parole                       Yes   \n",
       "2                                    Parole                       Yes   \n",
       "3                                    Parole                       Yes   \n",
       "4                                    Parole                       Yes   \n",
       "\n",
       "   Recidivism - Return to Prison numeric  \n",
       "0                                      1  \n",
       "1                                      1  \n",
       "2                                      1  \n",
       "3                                      1  \n",
       "4                                      1  "
      ]
     },
     "execution_count": 35,
     "metadata": {},
     "output_type": "execute_result"
    }
   ],
   "source": [
    "data.head()"
   ]
  },
  {
   "cell_type": "markdown",
   "metadata": {},
   "source": [
    "## 3. Cleaning and Converting Iowa Data for Classification Modeling"
   ]
  },
  {
   "cell_type": "code",
   "execution_count": 36,
   "metadata": {},
   "outputs": [
    {
     "name": "stdout",
     "output_type": "stream",
     "text": [
      "<class 'pandas.core.frame.DataFrame'>\n",
      "RangeIndex: 26020 entries, 0 to 26019\n",
      "Data columns (total 11 columns):\n",
      " #   Column                                     Non-Null Count  Dtype \n",
      "---  ------                                     --------------  ----- \n",
      " 0   Fiscal Year Released                       26020 non-null  int64 \n",
      " 1   Recidivism Reporting Year                  26020 non-null  int64 \n",
      " 2   Race - Ethnicity                           25990 non-null  object\n",
      " 3   Sex                                        26017 non-null  object\n",
      " 4   Age At Release                             26017 non-null  object\n",
      " 5   Convicting Offense Classification          26020 non-null  object\n",
      " 6   Convicting Offense Type                    26020 non-null  object\n",
      " 7   Convicting Offense Subtype                 26020 non-null  object\n",
      " 8   Release type: Paroled to Detainder united  24258 non-null  object\n",
      " 9   Part of Target Population                  26020 non-null  object\n",
      " 10  Recidivism - Return to Prison numeric      26020 non-null  int64 \n",
      "dtypes: int64(3), object(8)\n",
      "memory usage: 2.2+ MB\n"
     ]
    }
   ],
   "source": [
    "data.info()"
   ]
  },
  {
   "cell_type": "markdown",
   "metadata": {},
   "source": [
    "##### Renaming columns for comprehension and ease of use"
   ]
  },
  {
   "cell_type": "code",
   "execution_count": 37,
   "metadata": {},
   "outputs": [],
   "source": [
    "data = data.rename(columns={\"Recidivism - Return to Prison numeric\": \"Recidivism\", \"Race - Ethnicity\":'Ethnicity',\n",
    "                           \"Release type: Paroled to Detainder united\": \"Release Type\"})"
   ]
  },
  {
   "cell_type": "code",
   "execution_count": 38,
   "metadata": {},
   "outputs": [
    {
     "data": {
      "text/html": [
       "<div>\n",
       "<style scoped>\n",
       "    .dataframe tbody tr th:only-of-type {\n",
       "        vertical-align: middle;\n",
       "    }\n",
       "\n",
       "    .dataframe tbody tr th {\n",
       "        vertical-align: top;\n",
       "    }\n",
       "\n",
       "    .dataframe thead th {\n",
       "        text-align: right;\n",
       "    }\n",
       "</style>\n",
       "<table border=\"1\" class=\"dataframe\">\n",
       "  <thead>\n",
       "    <tr style=\"text-align: right;\">\n",
       "      <th></th>\n",
       "      <th>Fiscal Year Released</th>\n",
       "      <th>Recidivism Reporting Year</th>\n",
       "      <th>Ethnicity</th>\n",
       "      <th>Sex</th>\n",
       "      <th>Age At Release</th>\n",
       "      <th>Convicting Offense Classification</th>\n",
       "      <th>Convicting Offense Type</th>\n",
       "      <th>Convicting Offense Subtype</th>\n",
       "      <th>Release Type</th>\n",
       "      <th>Part of Target Population</th>\n",
       "      <th>Recidivism</th>\n",
       "    </tr>\n",
       "  </thead>\n",
       "  <tbody>\n",
       "    <tr>\n",
       "      <th>0</th>\n",
       "      <td>2010</td>\n",
       "      <td>2013</td>\n",
       "      <td>White - Non-Hispanic</td>\n",
       "      <td>Male</td>\n",
       "      <td>Under 25</td>\n",
       "      <td>D Felony</td>\n",
       "      <td>Violent</td>\n",
       "      <td>Assault</td>\n",
       "      <td>Parole</td>\n",
       "      <td>Yes</td>\n",
       "      <td>1</td>\n",
       "    </tr>\n",
       "    <tr>\n",
       "      <th>1</th>\n",
       "      <td>2010</td>\n",
       "      <td>2013</td>\n",
       "      <td>White - Non-Hispanic</td>\n",
       "      <td>Male</td>\n",
       "      <td>55 and Older</td>\n",
       "      <td>D Felony</td>\n",
       "      <td>Public Order</td>\n",
       "      <td>OWI</td>\n",
       "      <td>Parole</td>\n",
       "      <td>Yes</td>\n",
       "      <td>1</td>\n",
       "    </tr>\n",
       "    <tr>\n",
       "      <th>2</th>\n",
       "      <td>2010</td>\n",
       "      <td>2013</td>\n",
       "      <td>White - Non-Hispanic</td>\n",
       "      <td>Male</td>\n",
       "      <td>25-34</td>\n",
       "      <td>D Felony</td>\n",
       "      <td>Property</td>\n",
       "      <td>Burglary</td>\n",
       "      <td>Parole</td>\n",
       "      <td>Yes</td>\n",
       "      <td>1</td>\n",
       "    </tr>\n",
       "    <tr>\n",
       "      <th>3</th>\n",
       "      <td>2010</td>\n",
       "      <td>2013</td>\n",
       "      <td>White - Non-Hispanic</td>\n",
       "      <td>Male</td>\n",
       "      <td>55 and Older</td>\n",
       "      <td>C Felony</td>\n",
       "      <td>Drug</td>\n",
       "      <td>Trafficking</td>\n",
       "      <td>Parole</td>\n",
       "      <td>Yes</td>\n",
       "      <td>1</td>\n",
       "    </tr>\n",
       "    <tr>\n",
       "      <th>4</th>\n",
       "      <td>2010</td>\n",
       "      <td>2013</td>\n",
       "      <td>Black - Non-Hispanic</td>\n",
       "      <td>Male</td>\n",
       "      <td>25-34</td>\n",
       "      <td>D Felony</td>\n",
       "      <td>Drug</td>\n",
       "      <td>Trafficking</td>\n",
       "      <td>Parole</td>\n",
       "      <td>Yes</td>\n",
       "      <td>1</td>\n",
       "    </tr>\n",
       "  </tbody>\n",
       "</table>\n",
       "</div>"
      ],
      "text/plain": [
       "   Fiscal Year Released  Recidivism Reporting Year             Ethnicity  \\\n",
       "0                  2010                       2013  White - Non-Hispanic   \n",
       "1                  2010                       2013  White - Non-Hispanic   \n",
       "2                  2010                       2013  White - Non-Hispanic   \n",
       "3                  2010                       2013  White - Non-Hispanic   \n",
       "4                  2010                       2013  Black - Non-Hispanic   \n",
       "\n",
       "    Sex Age At Release  Convicting Offense Classification  \\\n",
       "0  Male        Under 25                          D Felony   \n",
       "1  Male    55 and Older                          D Felony   \n",
       "2  Male           25-34                          D Felony   \n",
       "3  Male    55 and Older                          C Felony   \n",
       "4  Male           25-34                          D Felony   \n",
       "\n",
       "  Convicting Offense Type Convicting Offense Subtype Release Type  \\\n",
       "0                 Violent                    Assault       Parole   \n",
       "1            Public Order                        OWI       Parole   \n",
       "2                Property                   Burglary       Parole   \n",
       "3                    Drug                Trafficking       Parole   \n",
       "4                    Drug                Trafficking       Parole   \n",
       "\n",
       "  Part of Target Population  Recidivism  \n",
       "0                       Yes           1  \n",
       "1                       Yes           1  \n",
       "2                       Yes           1  \n",
       "3                       Yes           1  \n",
       "4                       Yes           1  "
      ]
     },
     "execution_count": 38,
     "metadata": {},
     "output_type": "execute_result"
    }
   ],
   "source": [
    "data.head()"
   ]
  },
  {
   "cell_type": "markdown",
   "metadata": {},
   "source": [
    "##### Examining missing values and cleaning up data before Auto EDA"
   ]
  },
  {
   "cell_type": "code",
   "execution_count": 39,
   "metadata": {},
   "outputs": [
    {
     "data": {
      "text/plain": [
       "Fiscal Year Released                    0\n",
       "Recidivism Reporting Year               0\n",
       "Ethnicity                              30\n",
       "Sex                                     3\n",
       "Age At Release                          3\n",
       "Convicting Offense Classification       0\n",
       "Convicting Offense Type                 0\n",
       "Convicting Offense Subtype              0\n",
       "Release Type                         1762\n",
       "Part of Target Population               0\n",
       "Recidivism                              0\n",
       "dtype: int64"
      ]
     },
     "execution_count": 39,
     "metadata": {},
     "output_type": "execute_result"
    }
   ],
   "source": [
    "data.isnull().sum()"
   ]
  },
  {
   "cell_type": "code",
   "execution_count": 40,
   "metadata": {},
   "outputs": [
    {
     "data": {
      "text/plain": [
       "0    17339\n",
       "1     8681\n",
       "Name: Recidivism, dtype: int64"
      ]
     },
     "execution_count": 40,
     "metadata": {},
     "output_type": "execute_result"
    }
   ],
   "source": [
    "data['Recidivism'].value_counts()"
   ]
  },
  {
   "cell_type": "code",
   "execution_count": 41,
   "metadata": {},
   "outputs": [
    {
     "data": {
      "text/plain": [
       "White - Non-Hispanic                               17584\n",
       "Black - Non-Hispanic                                6109\n",
       "White - Hispanic                                    1522\n",
       "American Indian or Alaska Native - Non-Hispanic      502\n",
       "Asian or Pacific Islander - Non-Hispanic             192\n",
       "Black - Hispanic                                      37\n",
       "American Indian or Alaska Native - Hispanic           20\n",
       "White -                                               12\n",
       "N/A -                                                  5\n",
       "Asian or Pacific Islander - Hispanic                   5\n",
       "Black -                                                2\n",
       "Name: Ethnicity, dtype: int64"
      ]
     },
     "execution_count": 41,
     "metadata": {},
     "output_type": "execute_result"
    }
   ],
   "source": [
    "data['Ethnicity'].value_counts()"
   ]
  },
  {
   "cell_type": "markdown",
   "metadata": {},
   "source": [
    "##### Converting nans for 'Ethnicity' to 'unknown'"
   ]
  },
  {
   "cell_type": "code",
   "execution_count": 42,
   "metadata": {},
   "outputs": [],
   "source": [
    "data['Ethnicity'] = data['Ethnicity'].fillna('Unknown')"
   ]
  },
  {
   "cell_type": "code",
   "execution_count": 43,
   "metadata": {},
   "outputs": [
    {
     "data": {
      "text/plain": [
       "White - Non-Hispanic                               17584\n",
       "Black - Non-Hispanic                                6109\n",
       "White - Hispanic                                    1522\n",
       "American Indian or Alaska Native - Non-Hispanic      502\n",
       "Asian or Pacific Islander - Non-Hispanic             192\n",
       "Black - Hispanic                                      37\n",
       "Unknown                                               30\n",
       "American Indian or Alaska Native - Hispanic           20\n",
       "White -                                               12\n",
       "N/A -                                                  5\n",
       "Asian or Pacific Islander - Hispanic                   5\n",
       "Black -                                                2\n",
       "Name: Ethnicity, dtype: int64"
      ]
     },
     "execution_count": 43,
     "metadata": {},
     "output_type": "execute_result"
    }
   ],
   "source": [
    "data['Ethnicity'].value_counts()"
   ]
  },
  {
   "cell_type": "markdown",
   "metadata": {},
   "source": [
    "##### Dropping nans for 'Release Type,' 'Sex,' 'Age At Release'"
   ]
  },
  {
   "cell_type": "code",
   "execution_count": 44,
   "metadata": {},
   "outputs": [],
   "source": [
    "data = data.dropna()"
   ]
  },
  {
   "cell_type": "code",
   "execution_count": 45,
   "metadata": {},
   "outputs": [
    {
     "data": {
      "text/plain": [
       "Fiscal Year Released                 0\n",
       "Recidivism Reporting Year            0\n",
       "Ethnicity                            0\n",
       "Sex                                  0\n",
       "Age At Release                       0\n",
       "Convicting Offense Classification    0\n",
       "Convicting Offense Type              0\n",
       "Convicting Offense Subtype           0\n",
       "Release Type                         0\n",
       "Part of Target Population            0\n",
       "Recidivism                           0\n",
       "dtype: int64"
      ]
     },
     "execution_count": 45,
     "metadata": {},
     "output_type": "execute_result"
    }
   ],
   "source": [
    "data.isnull().sum()"
   ]
  },
  {
   "cell_type": "markdown",
   "metadata": {},
   "source": []
  }
 ],
 "metadata": {
  "kernelspec": {
   "display_name": "Python 3",
   "language": "python",
   "name": "python3"
  },
  "language_info": {
   "codemirror_mode": {
    "name": "ipython",
    "version": 3
   },
   "file_extension": ".py",
   "mimetype": "text/x-python",
   "name": "python",
   "nbconvert_exporter": "python",
   "pygments_lexer": "ipython3",
   "version": "3.7.7"
  }
 },
 "nbformat": 4,
 "nbformat_minor": 4
}
